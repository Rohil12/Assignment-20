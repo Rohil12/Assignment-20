{
 "cells": [
  {
   "cell_type": "code",
   "execution_count": 3,
   "id": "1389d768-839c-4562-8a01-99c4abba1e5f",
   "metadata": {},
   "outputs": [],
   "source": [
    "# Q.1\n",
    "import pandas as pd\n"
   ]
  },
  {
   "cell_type": "code",
   "execution_count": 4,
   "id": "4389f969-60b0-4456-949e-18041edb317e",
   "metadata": {},
   "outputs": [
    {
     "name": "stdout",
     "output_type": "stream",
     "text": [
      "Requirement already satisfied: pandas in /opt/conda/lib/python3.10/site-packages (1.5.2)\n",
      "Requirement already satisfied: python-dateutil>=2.8.1 in /opt/conda/lib/python3.10/site-packages (from pandas) (2.8.2)\n",
      "Requirement already satisfied: pytz>=2020.1 in /opt/conda/lib/python3.10/site-packages (from pandas) (2022.6)\n",
      "Requirement already satisfied: numpy>=1.21.0 in /opt/conda/lib/python3.10/site-packages (from pandas) (1.23.5)\n",
      "Requirement already satisfied: six>=1.5 in /opt/conda/lib/python3.10/site-packages (from python-dateutil>=2.8.1->pandas) (1.16.0)\n",
      "Note: you may need to restart the kernel to use updated packages.\n"
     ]
    }
   ],
   "source": [
    "pip install pandas"
   ]
  },
  {
   "cell_type": "code",
   "execution_count": 5,
   "id": "6d9647b1-f38f-4f36-b8a8-518b5d461eb3",
   "metadata": {},
   "outputs": [],
   "source": [
    "\n",
    "series = pd.Series([\"4\",\"8\",\"15\",\"16\",\"23\",\"42\"])"
   ]
  },
  {
   "cell_type": "code",
   "execution_count": 6,
   "id": "5d85edc0-a589-4de2-867b-47b70c191c3e",
   "metadata": {},
   "outputs": [
    {
     "name": "stdout",
     "output_type": "stream",
     "text": [
      "0     4\n",
      "1     8\n",
      "2    15\n",
      "3    16\n",
      "4    23\n",
      "5    42\n",
      "dtype: object\n"
     ]
    }
   ],
   "source": [
    "print(series)"
   ]
  },
  {
   "cell_type": "code",
   "execution_count": 7,
   "id": "ccf24fd5-f05c-43d9-9a8b-7158daee1d04",
   "metadata": {},
   "outputs": [],
   "source": [
    "# Q.2\n",
    "series = [1,2,3,4,5,6,7,8,9,10]\n",
    "Ab = pd.Series(series)"
   ]
  },
  {
   "cell_type": "code",
   "execution_count": 8,
   "id": "1799bada-0cd4-45b8-96f7-919a140a0679",
   "metadata": {},
   "outputs": [
    {
     "name": "stdout",
     "output_type": "stream",
     "text": [
      "0     1\n",
      "1     2\n",
      "2     3\n",
      "3     4\n",
      "4     5\n",
      "5     6\n",
      "6     7\n",
      "7     8\n",
      "8     9\n",
      "9    10\n",
      "dtype: int64\n"
     ]
    }
   ],
   "source": [
    "print(Ab)"
   ]
  },
  {
   "cell_type": "code",
   "execution_count": 9,
   "id": "3bab9372-ed87-440d-a028-0d5f046b6d57",
   "metadata": {},
   "outputs": [],
   "source": [
    "# Q.3\n",
    "Q3 = pd.read_excel('Assignment 20.xlsx')"
   ]
  },
  {
   "cell_type": "code",
   "execution_count": 10,
   "id": "c9f5b054-84f8-44b2-8707-ad9f2f3e026e",
   "metadata": {},
   "outputs": [
    {
     "data": {
      "text/html": [
       "<div>\n",
       "<style scoped>\n",
       "    .dataframe tbody tr th:only-of-type {\n",
       "        vertical-align: middle;\n",
       "    }\n",
       "\n",
       "    .dataframe tbody tr th {\n",
       "        vertical-align: top;\n",
       "    }\n",
       "\n",
       "    .dataframe thead th {\n",
       "        text-align: right;\n",
       "    }\n",
       "</style>\n",
       "<table border=\"1\" class=\"dataframe\">\n",
       "  <thead>\n",
       "    <tr style=\"text-align: right;\">\n",
       "      <th></th>\n",
       "      <th>Name</th>\n",
       "      <th>Age</th>\n",
       "      <th>Gender</th>\n",
       "    </tr>\n",
       "  </thead>\n",
       "  <tbody>\n",
       "    <tr>\n",
       "      <th>0</th>\n",
       "      <td>Alice</td>\n",
       "      <td>25</td>\n",
       "      <td>Female</td>\n",
       "    </tr>\n",
       "    <tr>\n",
       "      <th>1</th>\n",
       "      <td>Bob</td>\n",
       "      <td>30</td>\n",
       "      <td>Male</td>\n",
       "    </tr>\n",
       "    <tr>\n",
       "      <th>2</th>\n",
       "      <td>Claire</td>\n",
       "      <td>27</td>\n",
       "      <td>Female</td>\n",
       "    </tr>\n",
       "  </tbody>\n",
       "</table>\n",
       "</div>"
      ],
      "text/plain": [
       "     Name  Age  Gender\n",
       "0   Alice   25  Female\n",
       "1     Bob   30    Male\n",
       "2  Claire   27  Female"
      ]
     },
     "execution_count": 10,
     "metadata": {},
     "output_type": "execute_result"
    }
   ],
   "source": [
    "Q3"
   ]
  },
  {
   "cell_type": "code",
   "execution_count": 11,
   "id": "239bfa4b-cddf-48c5-b34e-2258a15f9342",
   "metadata": {},
   "outputs": [
    {
     "name": "stdout",
     "output_type": "stream",
     "text": [
      "Data Series\n",
      "0      1\n",
      "1      2\n",
      "2      3\n",
      "3      4\n",
      "4      5\n",
      "5      6\n",
      "6    345\n",
      "dtype: int64\n",
      "Data Frames\n",
      "   A  B   c\n",
      "0  1  5   9\n",
      "1  2  4  10\n",
      "2  3  7  11\n",
      "3  4  8  12\n"
     ]
    }
   ],
   "source": [
    "# Q.4\n",
    "#  A DataFrame in pandas is a two-dimensional.size-mutable, and potentially\n",
    "# heterogeneous tabular data structure with labeled axes rows and columns.\n",
    "# It is similar to a table in a database or an excel spreadsheet.\n",
    "\n",
    "# On the other hand, a series is a one-dimensional array-like object \n",
    "# that can hold any data type integers,strings, floating-point,etc.and has an \n",
    "# associated array of data labels, called its index.\n",
    "data_series= pd.Series([1,2,3,4,5,6,345])\n",
    "print(\"Data Series\")\n",
    "print(data_series)\n",
    "\n",
    "data_frame = pd.DataFrame({'A':[1,2,3,4],'B':[5,4,7,8],'c':[9,10,11,12]})\n",
    "print(\"Data Frames\")\n",
    "print(data_frame)"
   ]
  },
  {
   "cell_type": "code",
   "execution_count": 27,
   "id": "e28f7046-b461-4b84-a77a-3b30c2f7b11c",
   "metadata": {},
   "outputs": [],
   "source": [
    "# Q.5 \n",
    "# 1.dtypes: Tell you all the types of data stored in a dataframe\n",
    "#Q3.dtypes\n",
    "\n",
    "# 2. Head fetches the first five elements\n",
    "#Q3.head\n",
    "\n",
    "# 3.tail fetches the last five elements\n",
    "#Q3.tail\n",
    "\n",
    "# 4.Columns: Tells us each category and head columns of the data\n",
    "#Q3.columns\n",
    "\n",
    "# 5.To_csv this saves the data in a csv file\n",
    "#Q3.to_csv(\"Q3.CSV\")"
   ]
  },
  {
   "cell_type": "code",
   "execution_count": 28,
   "id": "44c9d636-2a25-4b36-bbc3-93f3661a212a",
   "metadata": {},
   "outputs": [
    {
     "data": {
      "text/plain": [
       "<bound method NDFrame.head of      Name  Age  Gender\n",
       "0   Alice   25  Female\n",
       "1     Bob   30    Male\n",
       "2  Claire   27  Female>"
      ]
     },
     "execution_count": 28,
     "metadata": {},
     "output_type": "execute_result"
    }
   ],
   "source": [
    "Q3.head"
   ]
  },
  {
   "cell_type": "code",
   "execution_count": 29,
   "id": "24c81fa0-a96a-4f46-8314-e80f6c97c84d",
   "metadata": {},
   "outputs": [
    {
     "data": {
      "text/plain": [
       "<bound method NDFrame.tail of      Name  Age  Gender\n",
       "0   Alice   25  Female\n",
       "1     Bob   30    Male\n",
       "2  Claire   27  Female>"
      ]
     },
     "execution_count": 29,
     "metadata": {},
     "output_type": "execute_result"
    }
   ],
   "source": [
    "Q3.tail"
   ]
  },
  {
   "cell_type": "code",
   "execution_count": 30,
   "id": "fd07c623-1b38-48e2-8d41-f9a6eaf47030",
   "metadata": {},
   "outputs": [
    {
     "data": {
      "text/plain": [
       "Name      object\n",
       "Age        int64\n",
       "Gender    object\n",
       "dtype: object"
      ]
     },
     "execution_count": 30,
     "metadata": {},
     "output_type": "execute_result"
    }
   ],
   "source": [
    "Q3.dtypes"
   ]
  },
  {
   "cell_type": "code",
   "execution_count": 31,
   "id": "488e0217-494f-4ae0-8aa5-8b1a445b063e",
   "metadata": {},
   "outputs": [
    {
     "data": {
      "text/plain": [
       "Index(['Name', 'Age', 'Gender'], dtype='object')"
      ]
     },
     "execution_count": 31,
     "metadata": {},
     "output_type": "execute_result"
    }
   ],
   "source": [
    "Q3.columns"
   ]
  },
  {
   "cell_type": "code",
   "execution_count": 32,
   "id": "ea657c2e-a114-46cd-a558-facae8cdcc2e",
   "metadata": {},
   "outputs": [],
   "source": [
    "Q3.to_csv(\"Q3.csv\")"
   ]
  },
  {
   "cell_type": "code",
   "execution_count": 33,
   "id": "23835f32-155e-481f-bb64-25f2c393587e",
   "metadata": {},
   "outputs": [],
   "source": [
    "#Q.6 \n",
    "# In pandas, both Dataframe and panel are mutable in nature, meaning\n",
    "# you can change their size and values.\n",
    "# however, a series is only value mutable, meaning you can change the \n",
    "# data within it , but its size is immutable."
   ]
  },
  {
   "cell_type": "code",
   "execution_count": 40,
   "id": "b607b87a-a274-44a3-ae45-d3eb21e72fcb",
   "metadata": {},
   "outputs": [],
   "source": [
    "a1 = pd.Series([1,2,3,4,5,6,7])\n",
    "a2 = pd.Series([23,434,234,54,65,21,23])\n",
    "a3 = pd.Series([\"a\",\"d\",\"c\",\"f\",\"e\",\"w\",\"r\"])"
   ]
  },
  {
   "cell_type": "code",
   "execution_count": 42,
   "id": "4ffa10a4-4f23-41d9-b3c4-29dc84b39300",
   "metadata": {},
   "outputs": [],
   "source": [
    "Data = {\"A1\":a1,\"A2\":a2,\"A3\":a3}\n",
    "\n",
    "data_frame = pd.DataFrame(Data)"
   ]
  },
  {
   "cell_type": "code",
   "execution_count": 44,
   "id": "19b9577b-3647-4fe8-ba65-536cf6273198",
   "metadata": {},
   "outputs": [
    {
     "data": {
      "text/html": [
       "<div>\n",
       "<style scoped>\n",
       "    .dataframe tbody tr th:only-of-type {\n",
       "        vertical-align: middle;\n",
       "    }\n",
       "\n",
       "    .dataframe tbody tr th {\n",
       "        vertical-align: top;\n",
       "    }\n",
       "\n",
       "    .dataframe thead th {\n",
       "        text-align: right;\n",
       "    }\n",
       "</style>\n",
       "<table border=\"1\" class=\"dataframe\">\n",
       "  <thead>\n",
       "    <tr style=\"text-align: right;\">\n",
       "      <th></th>\n",
       "      <th>A1</th>\n",
       "      <th>A2</th>\n",
       "      <th>A3</th>\n",
       "    </tr>\n",
       "  </thead>\n",
       "  <tbody>\n",
       "    <tr>\n",
       "      <th>0</th>\n",
       "      <td>1</td>\n",
       "      <td>23</td>\n",
       "      <td>a</td>\n",
       "    </tr>\n",
       "    <tr>\n",
       "      <th>1</th>\n",
       "      <td>2</td>\n",
       "      <td>434</td>\n",
       "      <td>d</td>\n",
       "    </tr>\n",
       "    <tr>\n",
       "      <th>2</th>\n",
       "      <td>3</td>\n",
       "      <td>234</td>\n",
       "      <td>c</td>\n",
       "    </tr>\n",
       "    <tr>\n",
       "      <th>3</th>\n",
       "      <td>4</td>\n",
       "      <td>54</td>\n",
       "      <td>f</td>\n",
       "    </tr>\n",
       "    <tr>\n",
       "      <th>4</th>\n",
       "      <td>5</td>\n",
       "      <td>65</td>\n",
       "      <td>e</td>\n",
       "    </tr>\n",
       "    <tr>\n",
       "      <th>5</th>\n",
       "      <td>6</td>\n",
       "      <td>21</td>\n",
       "      <td>w</td>\n",
       "    </tr>\n",
       "    <tr>\n",
       "      <th>6</th>\n",
       "      <td>7</td>\n",
       "      <td>23</td>\n",
       "      <td>r</td>\n",
       "    </tr>\n",
       "  </tbody>\n",
       "</table>\n",
       "</div>"
      ],
      "text/plain": [
       "   A1   A2 A3\n",
       "0   1   23  a\n",
       "1   2  434  d\n",
       "2   3  234  c\n",
       "3   4   54  f\n",
       "4   5   65  e\n",
       "5   6   21  w\n",
       "6   7   23  r"
      ]
     },
     "execution_count": 44,
     "metadata": {},
     "output_type": "execute_result"
    }
   ],
   "source": [
    "data_frame"
   ]
  },
  {
   "cell_type": "code",
   "execution_count": null,
   "id": "ef31cb90-9897-428a-90de-517662bd15d9",
   "metadata": {},
   "outputs": [],
   "source": []
  }
 ],
 "metadata": {
  "kernelspec": {
   "display_name": "Python 3 (ipykernel)",
   "language": "python",
   "name": "python3"
  },
  "language_info": {
   "codemirror_mode": {
    "name": "ipython",
    "version": 3
   },
   "file_extension": ".py",
   "mimetype": "text/x-python",
   "name": "python",
   "nbconvert_exporter": "python",
   "pygments_lexer": "ipython3",
   "version": "3.10.8"
  }
 },
 "nbformat": 4,
 "nbformat_minor": 5
}
